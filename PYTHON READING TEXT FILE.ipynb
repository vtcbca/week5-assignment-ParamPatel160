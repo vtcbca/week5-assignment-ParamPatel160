{
 "cells": [
  {
   "cell_type": "code",
   "execution_count": 1,
   "id": "c9c09caa",
   "metadata": {},
   "outputs": [],
   "source": [
    "import csv"
   ]
  },
  {
   "cell_type": "markdown",
   "id": "0f7b7d8c",
   "metadata": {},
   "source": [
    "## read()"
   ]
  },
  {
   "cell_type": "markdown",
   "id": "bd8f2c7a",
   "metadata": {},
   "source": []
  },
  {
   "cell_type": "code",
   "execution_count": 2,
   "id": "cef2612b",
   "metadata": {},
   "outputs": [
    {
     "name": "stdout",
     "output_type": "stream",
     "text": [
      "What is Python language?        \n",
      "                                        \n",
      "Python is a widely used high-level, general-purpose, interpreted, dynamic programming language.\n",
      "Its design philosophy emphasizes code readability, and its syntax allows programmers to express concepts in fewer lines of code than possible in \n",
      "languages such as C++ or Java. \n",
      "Python supports multiple programming paradigms, including object-oriented, imperative and functional programming or procedural styles.\n",
      "It features a dynamic type system and automatic memory management and has a large and comprehensive standard library.\n",
      "The best way we learn anything is by practice and exercise questions.\n",
      "We  have started this section for those (beginner to intermediate) who are familiar with Python.\n"
     ]
    }
   ],
   "source": [
    "with open('C:\\\\sqlite3\\\\testing.txt',\"r\",errors=\"ignore\") as f:\n",
    "    contents = f.read()\n",
    "    print(contents)"
   ]
  },
  {
   "cell_type": "code",
   "execution_count": 3,
   "id": "d2b1c526",
   "metadata": {},
   "outputs": [
    {
     "ename": "ValueError",
     "evalue": "I/O operation on closed file.",
     "output_type": "error",
     "traceback": [
      "\u001b[1;31m---------------------------------------------------------------------------\u001b[0m",
      "\u001b[1;31mValueError\u001b[0m                                Traceback (most recent call last)",
      "Input \u001b[1;32mIn [3]\u001b[0m, in \u001b[0;36m<module>\u001b[1;34m\u001b[0m\n\u001b[1;32m----> 1\u001b[0m contents \u001b[38;5;241m=\u001b[39m \u001b[43mf\u001b[49m\u001b[38;5;241;43m.\u001b[39;49m\u001b[43mread\u001b[49m\u001b[43m(\u001b[49m\u001b[38;5;241;43m10\u001b[39;49m\u001b[43m)\u001b[49m\n\u001b[0;32m      2\u001b[0m \u001b[38;5;28mprint\u001b[39m(contents)\n",
      "\u001b[1;31mValueError\u001b[0m: I/O operation on closed file."
     ]
    }
   ],
   "source": [
    "contents = f.read(10)\n",
    "print(contents)"
   ]
  },
  {
   "cell_type": "markdown",
   "id": "2ce8efa1",
   "metadata": {},
   "source": [
    "**NOTE:** \n",
    "\n",
    "- File is automatically close, When we open file using \"with\".\n",
    "\n",
    "- If you want to remove the line terminator characters (\\n or \\r\\n) from    each line, you can use the strip method:"
   ]
  },
  {
   "cell_type": "markdown",
   "id": "2e65936d",
   "metadata": {},
   "source": [
    "## READ first \"n\" character or \"n\" byte of file"
   ]
  },
  {
   "cell_type": "code",
   "execution_count": 4,
   "id": "9ef4a15e",
   "metadata": {},
   "outputs": [
    {
     "name": "stdout",
     "output_type": "stream",
     "text": [
      "What is Python \n"
     ]
    }
   ],
   "source": [
    "with open('C:\\\\sqlite3\\\\testing.txt',\"r\",errors=\"ignore\") as f:\n",
    "    contents = f.read(15)\n",
    "    print(contents)"
   ]
  },
  {
   "cell_type": "code",
   "execution_count": 5,
   "id": "04280d01",
   "metadata": {},
   "outputs": [
    {
     "name": "stdout",
     "output_type": "stream",
     "text": [
      "What is Python \n",
      "language?      \n"
     ]
    }
   ],
   "source": [
    "with open('C:\\\\sqlite3\\\\testing.TXT',\"r\",errors=\"ignore\") as f:\n",
    "    contents = f.read(15) # read 15 byte or character from starting\n",
    "    print(contents)\n",
    "    contents = f.read(15) # read next 15 bytes\n",
    "    print(contents)"
   ]
  },
  {
   "cell_type": "markdown",
   "id": "4b164cfa",
   "metadata": {},
   "source": [
    "### seek(size) : move pointer to specified number of bytes in file\n",
    "\n",
    "- seek(15) : move 15 bytes.\n",
    "- seek(0) : Move to begining of file.\n"
   ]
  },
  {
   "cell_type": "code",
   "execution_count": 7,
   "id": "e2f62fc3",
   "metadata": {},
   "outputs": [
    {
     "name": "stdout",
     "output_type": "stream",
     "text": [
      "language?      \n",
      "What is Python \n"
     ]
    }
   ],
   "source": [
    "with open('C:\\\\sqlite3\\\\testing.TXT',\"r\",errors=\"ignore\") as f:\n",
    "    f.seek(15) # move 15 byte\n",
    "    contents = f.read(15) # read 15 byte or character from starting\n",
    "    print(contents)\n",
    "    f.seek(0)\n",
    "    contents = f.read(15) # read next 15 bytes\n",
    "    print(contents)"
   ]
  },
  {
   "cell_type": "markdown",
   "id": "453b9626",
   "metadata": {},
   "source": [
    "### Read file line by line "
   ]
  },
  {
   "cell_type": "markdown",
   "id": "c68656e4",
   "metadata": {},
   "source": [
    "- readline() - Used to read file line by line.\n",
    "\n",
    "The readline method reads a single line from a file and returns it as a string. \n",
    "\n",
    "This means that if you use readline, you can read the contents of a file line by line, which can be useful for processing large files that do not fit in memory.\n",
    "\n",
    "If the end of a file has been reached, the readline() returns an empty string.<br>\n",
    "\n",
    "\n",
    "We can read the file line by line in Python using a while loop and the readline() function. \n",
    "\n",
    "This function keeps track of its current position in the file. That's why we need a loop to iterate over the file and read the next line of text from the file.\n",
    "\n"
   ]
  },
  {
   "cell_type": "code",
   "execution_count": 9,
   "id": "6e28a8cc",
   "metadata": {},
   "outputs": [
    {
     "name": "stdout",
     "output_type": "stream",
     "text": [
      "What is Python language?        \n",
      "\n",
      "                                        \n",
      "\n",
      "Python is a widely used high-level, general-purpose, interpreted, dynamic programming language.\n",
      "\n",
      "Its design philosophy emphasizes code readability, and its syntax allows programmers to express concepts in fewer lines of code than possible in \n",
      "\n",
      "languages such as C++ or Java. \n",
      "\n",
      "Python supports multiple programming paradigms, including object-oriented, imperative and functional programming or procedural styles.\n",
      "\n",
      "It features a dynamic type system and automatic memory management and has a large and comprehensive standard library.\n",
      "\n",
      "The best way we learn anything is by practice and exercise questions.\n",
      "\n",
      "We  have started this section for those (beginner to intermediate) who are familiar with Python.\n"
     ]
    }
   ],
   "source": [
    "file = open('C:\\\\sqlite3\\\\testing.TXT',\"r\",errors=\"ignore\")\n",
    "while True:\n",
    "    line = file.readline()\n",
    "    if not line:\n",
    "        break\n",
    "    print(line)\n",
    "file.close()"
   ]
  },
  {
   "cell_type": "code",
   "execution_count": null,
   "id": "ba8c58ed",
   "metadata": {},
   "outputs": [],
   "source": []
  },
  {
   "cell_type": "code",
   "execution_count": 17,
   "id": "337edb6f",
   "metadata": {},
   "outputs": [
    {
     "name": "stdout",
     "output_type": "stream",
     "text": [
      "What is Python \n",
      "language?      \n"
     ]
    }
   ],
   "source": [
    "with open('C:\\\\sqlite3\\\\testing.TXT',\"r\",errors=\"ignore\") as f:\n",
    "    #f.seek(15) # move 15 byte\n",
    "    contents = f.readline(15) # read 15 byte or character from starting\n",
    "    print(contents)\n",
    "    #f.seek(0)\n",
    "    contents = f.readline(15) # read next 15 bytes\n",
    "    print(contents)"
   ]
  },
  {
   "cell_type": "markdown",
   "id": "37980656",
   "metadata": {},
   "source": [
    "### Read Multiple Lines"
   ]
  },
  {
   "cell_type": "markdown",
   "id": "4ac51561",
   "metadata": {},
   "source": [
    "**readlines():** functions reads every line and stores it in the variable lines in this case. Then, display each line after iterating through the lines using a \"for\" loop."
   ]
  },
  {
   "cell_type": "code",
   "execution_count": 10,
   "id": "5384b15c",
   "metadata": {},
   "outputs": [
    {
     "name": "stdout",
     "output_type": "stream",
     "text": [
      "Total number of line in file is: 9\n",
      "\n",
      "['What is Python language?        \\n', '                                        \\n', 'Python is a widely used high-level, general-purpose, interpreted, dynamic programming language.\\n', 'Its design philosophy emphasizes code readability, and its syntax allows programmers to express concepts in fewer lines of code than possible in \\n', 'languages such as C++ or Java. \\n', 'Python supports multiple programming paradigms, including object-oriented, imperative and functional programming or procedural styles.\\n', 'It features a dynamic type system and automatic memory management and has a large and comprehensive standard library.\\n', 'The best way we learn anything is by practice and exercise questions.\\n', 'We  have started this section for those (beginner to intermediate) who are familiar with Python.']\n"
     ]
    }
   ],
   "source": [
    "file = open('C:\\\\sqlite3\\\\testing.TXT',\"r\",errors=\"ignore\")\n",
    "lines = file.readlines()\n",
    "print(\"Total number of line in file is: {}\\n\".format(len(lines)))\n",
    "print(lines)\n"
   ]
  },
  {
   "cell_type": "code",
   "execution_count": 11,
   "id": "fa7ca8e0",
   "metadata": {},
   "outputs": [
    {
     "name": "stdout",
     "output_type": "stream",
     "text": [
      "1 --> What is Python language?        \n",
      "\n",
      "2 -->                                         \n",
      "\n",
      "3 --> Python is a widely used high-level, general-purpose, interpreted, dynamic programming language.\n",
      "\n",
      "4 --> Its design philosophy emphasizes code readability, and its syntax allows programmers to express concepts in fewer lines of code than possible in \n",
      "\n",
      "5 --> languages such as C++ or Java. \n",
      "\n",
      "6 --> Python supports multiple programming paradigms, including object-oriented, imperative and functional programming or procedural styles.\n",
      "\n",
      "7 --> It features a dynamic type system and automatic memory management and has a large and comprehensive standard library.\n",
      "\n",
      "8 --> The best way we learn anything is by practice and exercise questions.\n",
      "\n",
      "9 --> We  have started this section for those (beginner to intermediate) who are familiar with Python.\n"
     ]
    }
   ],
   "source": [
    "file = open('C:\\\\sqlite3\\\\testing.TXT',\"r\",errors=\"ignore\")\n",
    "lines = file.readlines()\n",
    "i=1\n",
    "for line in lines:\n",
    "    print(\"{} --> {}\".format(i,line))\n",
    "    i=i+1"
   ]
  },
  {
   "cell_type": "markdown",
   "id": "4884050f",
   "metadata": {},
   "source": [
    "#### Remove  the line terminator characters (\\n or \\r\\n) from each line, you can use the strip method:"
   ]
  },
  {
   "cell_type": "code",
   "execution_count": 19,
   "id": "b284c41a",
   "metadata": {},
   "outputs": [
    {
     "name": "stdout",
     "output_type": "stream",
     "text": [
      "What is Python language?\n",
      "Python is a widely used high-level, general-purpose, interpreted, dynamic programming language.\n",
      "Its design philosophy emphasizes code readability, and its syntax allows programmers to express concepts in fewer lines of code than possible in\n",
      "languages such as C++ or Java.\n",
      "Python supports multiple programming paradigms, including object-oriented, imperative and functional programming or procedural styles.\n",
      "It features a dynamic type system and automatic memory management and has a large and comprehensive standard library.\n",
      "The best way we learn anything is by practice and exercise questions.\n",
      "We  have started this section for those (beginner to intermediate) who are familiar with Python.\n"
     ]
    }
   ],
   "source": [
    "with open(\"C:\\\\sqlite3\\\\testing.TXT\", \"r\") as file:\n",
    "    lines = file.readlines()\n",
    "    for line in lines:\n",
    "        print(line.strip())"
   ]
  },
  {
   "cell_type": "code",
   "execution_count": null,
   "id": "45d0829a",
   "metadata": {},
   "outputs": [],
   "source": []
  },
  {
   "cell_type": "code",
   "execution_count": 22,
   "id": "4dfdf5c3",
   "metadata": {},
   "outputs": [
    {
     "name": "stdout",
     "output_type": "stream",
     "text": [
      "What is Python \n",
      "['language?        \\n']\n"
     ]
    }
   ],
   "source": [
    "with open('C:\\\\sqlite3\\\\testing.TXT',\"r\",errors=\"ignore\") as f:\n",
    "    #f.seek(15) # move 15 byte\n",
    "    \n",
    "    contents = f.read(15) # read 15 byte or character from starting\n",
    "    print(contents)\n",
    "    #f.seek(0)\n",
    "    \n",
    "    contents = f.readlines(15) # read next 15 bytes\n",
    "    print(contents)"
   ]
  },
  {
   "cell_type": "code",
   "execution_count": null,
   "id": "f4c1af05",
   "metadata": {},
   "outputs": [],
   "source": []
  },
  {
   "cell_type": "code",
   "execution_count": 14,
   "id": "4acace78",
   "metadata": {},
   "outputs": [
    {
     "name": "stdout",
     "output_type": "stream",
     "text": [
      "['general-purpose,', 'object-oriented,']\n"
     ]
    }
   ],
   "source": [
    "def longest_word(filename):\n",
    "    with open(filename, 'r',errors=\"ignore\") as infile:\n",
    "              words = infile.read().split()\n",
    "    max_len = len(max(words, key=len))\n",
    "    return [word for word in words if len(word) == max_len]\n",
    "\n",
    "print(longest_word('C:\\\\sqlite3\\\\testing.txt'))"
   ]
  },
  {
   "cell_type": "code",
   "execution_count": null,
   "id": "c914f11f",
   "metadata": {},
   "outputs": [],
   "source": []
  }
 ],
 "metadata": {
  "kernelspec": {
   "display_name": "Python 3 (ipykernel)",
   "language": "python",
   "name": "python3"
  },
  "language_info": {
   "codemirror_mode": {
    "name": "ipython",
    "version": 3
   },
   "file_extension": ".py",
   "mimetype": "text/x-python",
   "name": "python",
   "nbconvert_exporter": "python",
   "pygments_lexer": "ipython3",
   "version": "3.10.1"
  }
 },
 "nbformat": 4,
 "nbformat_minor": 5
}
